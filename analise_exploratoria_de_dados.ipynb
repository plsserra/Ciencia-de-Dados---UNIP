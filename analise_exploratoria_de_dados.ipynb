{
 "cells": [
  {
   "cell_type": "markdown",
   "id": "f33e4f90",
   "metadata": {},
   "source": [
    "# Análise exploratória de dados\n",
    "A análise exploratória de dados visa buscar reconhecer os atributos ou características que proporcionam maior impacto nos resultados \"alvos\".\n",
    "O objetivo desta prática é a realização de análises exploratórias a partir de uma base de dados de veículos tendo como objetivo a identificação das características que proporcionam maior impacto nos resultados (preço final)."
   ]
  },
  {
   "cell_type": "markdown",
   "id": "e56e6c10",
   "metadata": {},
   "source": [
    "## Quais são as principais características que impactam no preço do carro?\n",
    "\n",
    "# 1. Importação dos dados\n",
    "\n",
    "##     Importação das bibliotecas"
   ]
  },
  {
   "cell_type": "code",
   "execution_count": null,
   "id": "55158faf",
   "metadata": {},
   "outputs": [],
   "source": [
    "import pandas as pd\n",
    "import numpy as np"
   ]
  },
  {
   "cell_type": "markdown",
   "id": "9155b9dd",
   "metadata": {},
   "source": [
    "## A base de dados será carregada como um dataframe \"df\".\n",
    "## Esta base de dados foi previamente importada, mas pode ser carregada diretamente do\n",
    "## site no endereço:\n",
    " 'https://s3-api.us-geo.objectstorage.softlayer.net/cf-courses-data/CognitiveClass/DA0101EN/automobileEDA.csv'"
   ]
  },
  {
   "cell_type": "code",
   "execution_count": null,
   "id": "10ad5317",
   "metadata": {},
   "outputs": [],
   "source": [
    "path = 'https://s3-api.us-geo.objectstorage.softlayer.net/cf-courses-data/CognitiveClass/DA0101EN/automobileEDA.csv'\n",
    "df = pd.read_csv(path)\n",
    "df.head()"
   ]
  },
  {
   "cell_type": "markdown",
   "id": "2c365208",
   "metadata": {},
   "source": [
    "# 2. Análise das características (\"features\") individualmente através da visualização dos dados."
   ]
  },
  {
   "cell_type": "code",
   "execution_count": null,
   "id": "06b26f37",
   "metadata": {},
   "outputs": [],
   "source": [
    "df.shape"
   ]
  },
  {
   "cell_type": "code",
   "execution_count": null,
   "id": "b92020b0",
   "metadata": {},
   "outputs": [],
   "source": [
    "#\n",
    "# Importação das bibliotecas de visualização dos dados\n",
    "#\n",
    "import matplotlib.pyplot as plt\n",
    "import seaborn as sns\n",
    "%matplotlib inline"
   ]
  },
  {
   "cell_type": "markdown",
   "id": "1c1af4ee",
   "metadata": {},
   "source": [
    "### Importante ressaltar que a biblioteca para visualização de modelos estatísticos (seaborn) já vem\n",
    "### instalada no anaconda 3, caso seu aplicativo não disponha desta biblioteca, utilize o comando \n",
    "### pip do python, ou seja: \n",
    "### %%capture\n",
    "### !pip install seaborn\n",
    "\n",
    "## Como escolher o método correto para visualização !!!\n",
    "### É importante reconhecer os tipos de variáveis que está sendo tratada.\n",
    "### Este procedimento visa identificar o melhor modelo de visualização das variáveis."
   ]
  },
  {
   "cell_type": "code",
   "execution_count": null,
   "id": "68154903",
   "metadata": {},
   "outputs": [],
   "source": [
    "#\n",
    "# lista do tipo de variáveis\n",
    "#\n",
    "print(df.dtypes)"
   ]
  },
  {
   "cell_type": "code",
   "execution_count": null,
   "id": "812687bc",
   "metadata": {},
   "outputs": [],
   "source": [
    "print(df['peak-rpm'].dtype)"
   ]
  },
  {
   "cell_type": "markdown",
   "id": "21d67ff6",
   "metadata": {},
   "source": [
    "### Pode-se calcular a correlação entre as variáveis do tipo int64 e float64 empregando-se o comando corr"
   ]
  },
  {
   "cell_type": "code",
   "execution_count": null,
   "id": "2e64f780",
   "metadata": {},
   "outputs": [],
   "source": [
    "df.corr()"
   ]
  },
  {
   "cell_type": "markdown",
   "id": "4ac3b79c",
   "metadata": {},
   "source": [
    "## Cálculo da correlação entre: cilindro (\"bore\") , tração (\"stroke\"), taxa de compressão\n",
    "## (\"compression-ratio\") e potência (\"horsepower\")"
   ]
  },
  {
   "cell_type": "code",
   "execution_count": null,
   "id": "aa77a08f",
   "metadata": {},
   "outputs": [],
   "source": [
    "df[['bore','stroke','compression-ratio','horsepower']].corr()"
   ]
  },
  {
   "cell_type": "markdown",
   "id": "54a3d456",
   "metadata": {},
   "source": [
    "# Variáveis numéricas continuas\n",
    "\n",
    "### Tratam-se de variáveis que contém qualquer valor com a mesma dimensão. Podem ser do tipo \"int64\"\n",
    "### ou \"float64\".\n",
    "Uma boa prática para visualização dessas variáveis é o emprego da plotagem com dispersão em composição com o\n",
    "ajuste de linhas.\n",
    "Utilizaremos o método regplot para ilustrar o entendimento da relação linear entre uma variável individual e o preço."
   ]
  },
  {
   "cell_type": "code",
   "execution_count": null,
   "id": "56c233c2",
   "metadata": {},
   "outputs": [],
   "source": [
    "# Dimensão do motor vs preço\n",
    "plt.figure(figsize=(12,8))\n",
    "sns.regplot(x=\"engine-size\",y=\"price\",data=df)\n",
    "plt.ylim(0,)"
   ]
  },
  {
   "cell_type": "code",
   "execution_count": null,
   "id": "92ed06b4",
   "metadata": {},
   "outputs": [],
   "source": [
    "df[['engine-size','price']].corr()"
   ]
  },
  {
   "cell_type": "markdown",
   "id": "fcefa40e",
   "metadata": {},
   "source": [
    "## Observe que o valor da correlação (próximo de 1) identifica a existência de uma boa relação entre os atributos\n",
    "## Outras variáveis com valores altos de correlação também podem ser verificadas\n",
    "\n",
    "### Atividade: Verifique a correlação e faça o gráfico representativo das variáveis listadas abaixo em relação ao preço dos veículos\": \n",
    "<us><li>largura('width')</li> <li> peso('curb-weight')</li> <li> tração('stroke')</li> <li>consumo em mpg na cidade ('city-mpg')</li> <li>consumo na estrada('highway-mpg')</li> <li>veículo movido a diesel ('diesel') e</li> <li>veículo movido a gasolina ('gas').</li>\n",
    "\n",
    "### Qual desses atribuitos você selecionaria para a construção de um modelo ???"
   ]
  },
  {
   "cell_type": "code",
   "execution_count": null,
   "id": "a212176e",
   "metadata": {},
   "outputs": [],
   "source": []
  },
  {
   "cell_type": "code",
   "execution_count": null,
   "id": "e8671fc4",
   "metadata": {},
   "outputs": [],
   "source": []
  },
  {
   "cell_type": "markdown",
   "id": "4ee8432a",
   "metadata": {},
   "source": [
    "## Relação Linear Fraca\n",
    "\n",
    "### Vamos avaliar a variável \"peak-rpm\" em relação ao preço (\"price\") do veículo:"
   ]
  },
  {
   "cell_type": "code",
   "execution_count": null,
   "id": "edc6e11e",
   "metadata": {},
   "outputs": [],
   "source": [
    "plt.figure(figsize=(12,8))\n",
    "sns.regplot(x=\"peak-rpm\",y=\"price\",data=df)"
   ]
  },
  {
   "cell_type": "code",
   "execution_count": null,
   "id": "a168e16f",
   "metadata": {},
   "outputs": [],
   "source": [
    "df[['peak-rpm','price']].corr()"
   ]
  },
  {
   "cell_type": "markdown",
   "id": "290ab69b",
   "metadata": {},
   "source": [
    "## Os resultados mostraram um relação linear \"fraca\". A variável contínua \"peak-rpm\" não seria uma boa seleção para inclusão em um modelo preditivo do preço do automóvel."
   ]
  },
  {
   "cell_type": "markdown",
   "id": "6ddc9732",
   "metadata": {},
   "source": [
    "# Variáveis Categóricas (\"Features\" ou Características)\n",
    "### São variáveis que descrevem a característica de uma unidade de dado e são selecionadas de um pequeno grupo de categorias.\n",
    "### As variáveis categóricas podem ser dos tipos \"object\" ou \"int64\".\n",
    "### Uma boa alternativa para visualização de variáveis categóricas é o uso do \"boxplot\".\n",
    "### Vamos avaliar a relação entre \"body-style\" (tipo, ou categoria do veículo) e o preço (\"price\")."
   ]
  },
  {
   "cell_type": "code",
   "execution_count": null,
   "id": "3f498934",
   "metadata": {},
   "outputs": [],
   "source": [
    "plt.figure(figsize=(12,8))\n",
    "sns.boxplot(x='body-style',y='price',data=df)"
   ]
  },
  {
   "cell_type": "markdown",
   "id": "c3a5e63b",
   "metadata": {},
   "source": [
    "### Observe os resultados mostraram a sobreposíção de preços em relação ao estilo do carro.\n",
    "### Desta forma podemos concluir que esta variável não é uma boa variável para predição de preço.\n",
    "### Deve-se portanto investigar outras variáveis categógicas a fim de estabelecer novas relações. Vamos avaliar a localização do motor (\"engine-location\") e o preço."
   ]
  },
  {
   "cell_type": "code",
   "execution_count": null,
   "id": "88fa4d93",
   "metadata": {},
   "outputs": [],
   "source": [
    "plt.figure(figsize=(12,8))\n",
    "sns.boxplot(x='engine-location',y='price',data=df)"
   ]
  },
  {
   "cell_type": "markdown",
   "id": "69c9228b",
   "metadata": {},
   "source": [
    "### Observa-se que os valores de localização do motor em relação ao preço mostraram boa distinção e podem ser considerados na elaboração de um modelo preditivo.\n",
    "### Realize a mesma análise empregando o tipo de tração (dianteira, traseira ou quatro rodas) que está representada pela variável categórica \"drive-wheels\", com o preço do veículo. O que você concluiu ???\n",
    "\n",
    "# 3 - Análise Estatística Descritiva\n",
    "\n",
    "### Primeiramente vamos visualizar as variáveis utilizando o método \"description\". Este método calcula a estatística básica para todas as variáveis contínuas. Campos sem valores numéricos (NaN) são descartados automaticamente. Este método irá apresentar:\n",
    "\n",
    "<ul>\n",
    "    <li> a frequência da variável</li>\n",
    "    <li> a média</li>\n",
    "    <li> o desvio padrão</li>\n",
    "    <li> Mínimo</li>\n",
    "    <li> IQR (Distribuição Interquartil: 25%, 50% e 75%)</li>\n",
    "    <li> Máximo</li>\n",
    "</ul>"
   ]
  },
  {
   "cell_type": "code",
   "execution_count": null,
   "id": "52c2621c",
   "metadata": {},
   "outputs": [],
   "source": [
    "df.describe()"
   ]
  },
  {
   "cell_type": "markdown",
   "id": "7676d6a1",
   "metadata": {},
   "source": [
    "### Pode-se aplicar o método describe em variáveis do tipo \"objeto\""
   ]
  },
  {
   "cell_type": "code",
   "execution_count": null,
   "id": "298c583d",
   "metadata": {},
   "outputs": [],
   "source": [
    "df.describe(include=['object'])"
   ]
  },
  {
   "cell_type": "markdown",
   "id": "5d195bd5",
   "metadata": {},
   "source": [
    "## Contagem de valores\n",
    "\n",
    "### Uma boa maneira para conhecimento do número de características variáveis.<br/>Iremos aplicar o método \"value_counts\" na coluna 'drive-wheels'.<br/> Este método só trabalha sobre séries pandas e não dataframes, logo, será aplicado somente sobre um colchete.  "
   ]
  },
  {
   "cell_type": "code",
   "execution_count": null,
   "id": "2af1e7fe",
   "metadata": {},
   "outputs": [],
   "source": [
    "df['drive-wheels'].value_counts()"
   ]
  },
  {
   "cell_type": "markdown",
   "id": "13a58cb9",
   "metadata": {},
   "source": [
    "### Pode-se converter a série em um dataframe"
   ]
  },
  {
   "cell_type": "code",
   "execution_count": null,
   "id": "40918fdd",
   "metadata": {},
   "outputs": [],
   "source": [
    "df['drive-wheels'].value_counts().to_frame()"
   ]
  },
  {
   "cell_type": "markdown",
   "id": "5d6ce855",
   "metadata": {},
   "source": [
    "### Repetindo a operação e salvando os resultados em um dataframe.<br/> Renomeando a coluna 'drive-wheels' para  'value_counts'."
   ]
  },
  {
   "cell_type": "code",
   "execution_count": null,
   "id": "6e37c805",
   "metadata": {},
   "outputs": [],
   "source": [
    "drive_wheels_counts=df['drive-wheels'].value_counts().to_frame()\n",
    "drive_wheels_counts.rename(columns={'drive-wheels':'value_counts'}, inplace=True)\n",
    "drive_wheels_counts"
   ]
  },
  {
   "cell_type": "markdown",
   "id": "0893806c",
   "metadata": {},
   "source": [
    "### Renomeando o índice para 'drive-wheels'"
   ]
  },
  {
   "cell_type": "code",
   "execution_count": null,
   "id": "f67b636b",
   "metadata": {},
   "outputs": [],
   "source": [
    "drive_wheels_counts.index.name='drive-wheels'\n",
    "drive_wheels_counts"
   ]
  },
  {
   "cell_type": "markdown",
   "id": "24848410",
   "metadata": {},
   "source": [
    "### Repetindo o processo para localização do motor ('engine-location')"
   ]
  },
  {
   "cell_type": "code",
   "execution_count": null,
   "id": "48d0cb10",
   "metadata": {},
   "outputs": [],
   "source": [
    "engine_loc_counts = df['engine-location'].value_counts().to_frame()\n",
    "engine_loc_counts.rename(columns={'engine-location':'value_counts'},inplace=True)\n",
    "engine_loc_counts.index.name='engine-location'\n",
    "engine_loc_counts"
   ]
  },
  {
   "cell_type": "markdown",
   "id": "ed8dd21e",
   "metadata": {},
   "source": [
    "### Devido a distribuição desbalanceada, a variável não deve ser considerada em um modelo preditivo"
   ]
  },
  {
   "cell_type": "markdown",
   "id": "6f5ce292",
   "metadata": {},
   "source": [
    "# 4. Agrupamento\n",
    "\n",
    "### O método \"groupby\" agrupa variáveis de diferentes categorias.<br/> Os dados são agrupados em uma ou várias variáveis e as análises são realizadas por grupos individualmente.<br/> Exemplo: agrupamento da variável drive-wheels."
   ]
  },
  {
   "cell_type": "code",
   "execution_count": null,
   "id": "e7adaf47",
   "metadata": {},
   "outputs": [],
   "source": [
    "df['drive-wheels'].unique()"
   ]
  },
  {
   "cell_type": "code",
   "execution_count": null,
   "id": "237e8f8b",
   "metadata": {},
   "outputs": [],
   "source": [
    "df_group_one = df[['drive-wheels','body-style','price']]"
   ]
  },
  {
   "cell_type": "markdown",
   "id": "828dbfad",
   "metadata": {},
   "source": [
    "### Cálculo do preço médio para cada categoria"
   ]
  },
  {
   "cell_type": "code",
   "execution_count": null,
   "id": "b63807a7",
   "metadata": {},
   "outputs": [],
   "source": [
    "df_group_one = df_group_one.groupby(['drive-wheels'],as_index=False).mean()\n",
    "df_group_one"
   ]
  },
  {
   "cell_type": "markdown",
   "id": "d38a9945",
   "metadata": {},
   "source": [
    "### Os resultados mostraram que os veículos com tração traseira (\"rwd\") são mais caros.<br/>Este processo permite o agrupamento e análise de várias variáveis."
   ]
  },
  {
   "cell_type": "code",
   "execution_count": null,
   "id": "e7b957d1",
   "metadata": {},
   "outputs": [],
   "source": [
    "df_gpt = df[['drive-wheels','body-style','price']]\n",
    "df_gpt1=df_gpt.groupby(['drive-wheels','body-style'],as_index=False).mean()\n",
    "df_gpt1"
   ]
  },
  {
   "cell_type": "markdown",
   "id": "1b5c3ab3",
   "metadata": {},
   "source": [
    "### O privotamento da tabela permite uma melhor visualização e entendimento dos dados.<br/>Neste caso a variável \"drive-wheels\" indicará as linhas e \"body-style\" as colunas."
   ]
  },
  {
   "cell_type": "code",
   "execution_count": null,
   "id": "7da816fe",
   "metadata": {},
   "outputs": [],
   "source": [
    "gpt1_pivot = df_gpt1.pivot(index='drive-wheels',columns='body-style')\n",
    "gpt1_pivot = gpt1_pivot.fillna(0) # preenchimento dos valores ausentes com 0\n",
    "gpt1_pivot"
   ]
  },
  {
   "cell_type": "markdown",
   "id": "3d84c440",
   "metadata": {},
   "source": [
    "### Apresentação dos resultados.<br/> Drive-wheels, body-style vs price"
   ]
  },
  {
   "cell_type": "code",
   "execution_count": null,
   "id": "e9b9f801",
   "metadata": {},
   "outputs": [],
   "source": [
    "fig, ax = plt.subplots()\n",
    "im = ax.pcolor(gpt1_pivot, cmap='RdBu')\n",
    "row_labels=gpt1_pivot.columns.levels[1]\n",
    "col_labels=gpt1_pivot.index\n",
    "ax.set_xticks(np.arange(gpt1_pivot.shape[1])+0.5, minor=False)\n",
    "ax.set_yticks(np.arange(gpt1_pivot.shape[0])+0.5, minor=False)\n",
    "ax.set_xticklabels(row_labels,minor=False)\n",
    "ax.set_yticklabels(col_labels,minor=False)\n",
    "plt.xticks(rotation=90)\n",
    "fig.colorbar(im)\n",
    "plt.show()"
   ]
  },
  {
   "cell_type": "markdown",
   "id": "d7cff116",
   "metadata": {},
   "source": [
    "# 5. Correlação e Causalidade\n",
    "\n",
    "### Correlação: medida de extensão da interdependência entre variáveis.<br/> Causalidade: relação de causa e efeito entre duas variáveis.\n",
    "\n",
    "### Correlação e Causalidade são conceitos diferentes e a correlação não implica em causalidade. <br/> Determinar a correlação é muito mais simples do que determinar a causalidade. <br/> A determinação da causalidade pode requerer a experimentação individual.\n",
    "\n",
    "### Coeficiente de Correlação de Pearson: identifica o nível de correlação entre duas variáveis (int64 ou float64) X e Y. <br/> Tem-se:\n",
    "<ul>\n",
    "    <li><H3> 1 - Forte correlação positiva</H3></li>\n",
    "    <li><H3> 0 - Sem correlação</H3></li>\n",
    "    <li><H3> -1 - Forte correlação negativa</H3></li>\n",
    "</ul>"
   ]
  },
  {
   "cell_type": "code",
   "execution_count": null,
   "id": "1873b250",
   "metadata": {},
   "outputs": [],
   "source": [
    "df.corr()"
   ]
  },
  {
   "cell_type": "markdown",
   "id": "ba003b22",
   "metadata": {},
   "source": [
    "## P-value (ou P-valor)\n",
    "\n",
    "### É o valor da probabilidade de que a correlação entre duas variáveis é estatisticamente significante.<br/>Um nível de significância de 0.05 (5%) representa 95% de confiança no valor da correlação entre as variáveis. Ou seja:\n",
    "<ul>\n",
    "    <li><H3> p menor que 0.001: forte evidência de que a correlação é significante </H3></li>\n",
    "    <li><H3> p menor que 0.05: evidência moderada de que a correlação é significante </H3></li>\n",
    "    <li><H3> p menor que 0.1:  evidência fraca de que a correlação é significante </H3></li>\n",
    "    <li><H3> p maior que 0.1: não existe evidência de que a correlação é significante </H3></li>\n",
    "</ul>   \n",
    "\n",
    "### Estas informações podem ser obtidas a partir da aplicação do módulo stats da biblioteca \"scipy\""
   ]
  },
  {
   "cell_type": "code",
   "execution_count": null,
   "id": "32d99927",
   "metadata": {},
   "outputs": [],
   "source": [
    "from scipy import stats"
   ]
  },
  {
   "cell_type": "markdown",
   "id": "0e818f8c",
   "metadata": {},
   "source": [
    "## Wheel base x price\n",
    "\n",
    "### Cálculo do coeficiente de correlação e do P-valor"
   ]
  },
  {
   "cell_type": "code",
   "execution_count": null,
   "id": "4427e3f9",
   "metadata": {},
   "outputs": [],
   "source": [
    "pearson_coef, p_value = stats.pearsonr(df['wheel-base'],df['price'])\n",
    "print(\"Coeficiente Pearson de correlação:  \",pearson_coef,\"\\nP-value: \",p_value)"
   ]
  },
  {
   "cell_type": "markdown",
   "id": "4ca8d7aa",
   "metadata": {},
   "source": [
    "### Conclusão: O valor do coeficiente Pearson de correlação mostrou uma moderada para fraca relação linear entre as variáveis \"wheel-base\" e \"price\"<br/> Já o P-value mostrou que o resultado da correlação é obtido com alta significância, ou seja, os resultados são confiáveis. "
   ]
  },
  {
   "cell_type": "markdown",
   "id": "4f251832",
   "metadata": {},
   "source": [
    "## Horsepower x price\n",
    "\n",
    "### Cálculo do coeficiente de correlação e do P-valor"
   ]
  },
  {
   "cell_type": "code",
   "execution_count": null,
   "id": "4d3d1584",
   "metadata": {},
   "outputs": [],
   "source": [
    "pearson_coef, p_value = stats.pearsonr(df['horsepower'],df['price'])\n",
    "print(\"Coeficiente Pearson de correlação:  \",pearson_coef,\"\\nP-value: \",p_value)"
   ]
  },
  {
   "cell_type": "markdown",
   "id": "182ffd42",
   "metadata": {},
   "source": [
    "### Conclusão: O valor do coeficiente Pearson de correlação mostrou uma relação linear forte entre as variáveis \"horsepower\" e \"price\".<br/> O P-value mostrou que o resultado da correlação é obtido com alta significância, ou seja, os resultados são confiáveis.\n",
    "\n",
    "## Length x price"
   ]
  },
  {
   "cell_type": "code",
   "execution_count": null,
   "id": "2e85bc6f",
   "metadata": {},
   "outputs": [],
   "source": [
    "pearson_coef, p_value = stats.pearsonr(df['length'],df['price'])\n",
    "print(\"Coeficiente Pearson de correlação:  \",pearson_coef,\"\\nP-value: \",p_value)"
   ]
  },
  {
   "cell_type": "markdown",
   "id": "2c8efbb4",
   "metadata": {},
   "source": [
    "### Conclusão: O valor do coeficiente Pearson de correlação mostrou uma relação moderada entre as variáveis \"length\" e \"price\".<br/> O P-value mostrou que o resultado da correlação é obtido com alta significância, ou seja, os resultados são confiáveis.\n",
    "\n",
    "## Width x price"
   ]
  },
  {
   "cell_type": "code",
   "execution_count": null,
   "id": "6182c63b",
   "metadata": {},
   "outputs": [],
   "source": [
    "pearson_coef, p_value = stats.pearsonr(df['width'],df['price'])\n",
    "print(\"Coeficiente Pearson de correlação:  \",pearson_coef,\"\\nP-value: \",p_value)"
   ]
  },
  {
   "cell_type": "markdown",
   "id": "2829a4e1",
   "metadata": {},
   "source": [
    "### Conclusão: O valor do coeficiente Pearson de correlação mostrou uma relação linear forte entre as variáveis \"Width\" e \"price\".<br/> O P-value mostrou que o resultado da correlação é obtido com alta significância, ou seja, os resultados são confiáveis.\n",
    "\n",
    "## Curb-weight x price"
   ]
  },
  {
   "cell_type": "code",
   "execution_count": null,
   "id": "16a90486",
   "metadata": {},
   "outputs": [],
   "source": [
    "pearson_coef, p_value = stats.pearsonr(df['curb-weight'],df['price'])\n",
    "print(\"Coeficiente Pearson de correlação:  \",pearson_coef,\"\\nP-value: \",p_value)"
   ]
  },
  {
   "cell_type": "markdown",
   "id": "e1092beb",
   "metadata": {},
   "source": [
    "### Conclusão: O valor do coeficiente Pearson de correlação mostrou uma relação linear forte entre as variáveis \"Curb-weight\" e \"price\".<br/> O P-value mostrou que o resultado da correlação é obtido com alta significância, ou seja, os resultados são confiáveis.\n",
    "\n",
    "## Engine size x price"
   ]
  },
  {
   "cell_type": "code",
   "execution_count": null,
   "id": "b44927dc",
   "metadata": {},
   "outputs": [],
   "source": [
    "pearson_coef, p_value = stats.pearsonr(df['engine-size'],df['price'])\n",
    "print(\"Coeficiente Pearson de correlação:  \",pearson_coef,\"\\nP-value: \",p_value)"
   ]
  },
  {
   "cell_type": "markdown",
   "id": "a94c012f",
   "metadata": {},
   "source": [
    "### Conclusão: O valor do coeficiente Pearson de correlação mostrou uma relação linear forte entre as variáveis \"Engine size\" e \"price\".<br/> O P-value mostrou que o resultado da correlação é obtido com alta significância, ou seja, os resultados são confiáveis.\n",
    "\n",
    "## Bore x price"
   ]
  },
  {
   "cell_type": "code",
   "execution_count": null,
   "id": "86f9e397",
   "metadata": {},
   "outputs": [],
   "source": [
    "pearson_coef, p_value = stats.pearsonr(df['bore'],df['price'])\n",
    "print(\"Coeficiente Pearson de correlação:  \",pearson_coef,\"\\nP-value: \",p_value)"
   ]
  },
  {
   "cell_type": "markdown",
   "id": "f0bd96c3",
   "metadata": {},
   "source": [
    "### Conclusão: O valor do coeficiente Pearson de correlação mostrou uma relação linear fraca entre as variáveis \"Bore\" e \"price\".<br/> O P-value mostrou que o resultado da correlação é obtido com alta significância, ou seja, os resultados são confiáveis.\n",
    "\n",
    "## City-mpg x price"
   ]
  },
  {
   "cell_type": "code",
   "execution_count": null,
   "id": "7ab533fe",
   "metadata": {},
   "outputs": [],
   "source": [
    "pearson_coef, p_value = stats.pearsonr(df['city-mpg'],df['price'])\n",
    "print(\"Coeficiente Pearson de correlação:  \",pearson_coef,\"\\nP-value: \",p_value)"
   ]
  },
  {
   "cell_type": "markdown",
   "id": "6d295b36",
   "metadata": {},
   "source": [
    "### Conclusão: O valor do coeficiente Pearson de correlação mostrou uma relação linear moderada entre as variáveis \"City-mpg\" e \"price\".<br/> O P-value mostrou que o resultado da correlação é obtido com alta significância, ou seja, os resultados são confiáveis.\n",
    "\n",
    "## Highway-mpg x price"
   ]
  },
  {
   "cell_type": "code",
   "execution_count": null,
   "id": "12f02179",
   "metadata": {},
   "outputs": [],
   "source": [
    "pearson_coef, p_value = stats.pearsonr(df['highway-mpg'],df['price'])\n",
    "print(\"Coeficiente Pearson de correlação:  \",pearson_coef,\"\\nP-value: \",p_value)"
   ]
  },
  {
   "cell_type": "markdown",
   "id": "0577bdb0",
   "metadata": {},
   "source": [
    "### Conclusão: O valor do coeficiente Pearson de correlação mostrou uma relação linear negativa e moderada para forte entre as variáveis \"Highway-mpg\" e \"price\".<br/> O P-value mostrou que o resultado da correlação é obtido com alta significância, ou seja, os resultados são confiáveis.\n",
    "\n",
    "### Quais variáveis numéricas poderiam ser selecionadas na construção de um modelo preditivo ???\n",
    "\n",
    "### Horsepower<br/>Width<br/>Curb-weight<br/>Engine size"
   ]
  },
  {
   "cell_type": "markdown",
   "id": "7b328a17",
   "metadata": {},
   "source": [
    "# Análise de Variância ==> ANOVA\n",
    "\n",
    "### Método estatístico empregado para avaliação da diferença entre as médias de dois ou mais conjuntos (grupos) de dados. <br/> Nas análises são considerados dois parâmetros.\n",
    "### F-test-score: ANOVA assume um valor único para a média de todos os dados. Realiza o cálculo do desvio das médias dos grupos em relação a média assumida. Quanto maior o valor do F-test-score, maior a diferença entre as médias.\n",
    "### P-value: retorna a significância estatística do cálculo.\n",
    "\n",
    "## Drive Wheels (Tração dianteira, traseira e nas quatro rodas)\n",
    "### São variáveis categorizadas. A função groupby irá capturar os grupos e as médias serão calculadas sobre cada grupo."
   ]
  },
  {
   "cell_type": "code",
   "execution_count": null,
   "id": "9f5c9ed5",
   "metadata": {},
   "outputs": [],
   "source": [
    "gpt2=df_gpt[['drive-wheels','price']].groupby(['drive-wheels'])\n",
    "gpt2.head(2)"
   ]
  },
  {
   "cell_type": "code",
   "execution_count": null,
   "id": "96bd6ff1",
   "metadata": {},
   "outputs": [],
   "source": [
    "df_gpt"
   ]
  },
  {
   "cell_type": "code",
   "execution_count": null,
   "id": "02a4198c",
   "metadata": {},
   "outputs": [],
   "source": [
    "gpt2.get_group('4wd')['price']"
   ]
  },
  {
   "cell_type": "markdown",
   "id": "89e76e2b",
   "metadata": {},
   "source": [
    "### Aplicação da função \"f_oneway\" no módulo stats para obtenção dos valores do F-test-score e P-value"
   ]
  },
  {
   "cell_type": "code",
   "execution_count": null,
   "id": "0ea3b278",
   "metadata": {},
   "outputs": [],
   "source": [
    "f_val,p_val=stats.f_oneway(gpt2.get_group('fwd')['price'],gpt2.get_group('rwd')['price'],gpt2.get_group('4wd')['price'])\n",
    "print(\"resultados da ANOVA \\tF-test-score: \",f_val,\"\\tP-value: \",p_val)"
   ]
  },
  {
   "cell_type": "markdown",
   "id": "8b7ac737",
   "metadata": {},
   "source": [
    "### Os resultados mostraram que os três grupos de veículos (tração dianteira, tração trazeira e tração nas quatro rodas) mostraram uma forte correlação com boa significância.\n",
    "### Avaliando as categorias em pares: Tração dianteira x Tração traseira"
   ]
  },
  {
   "cell_type": "code",
   "execution_count": null,
   "id": "365e11ee",
   "metadata": {},
   "outputs": [],
   "source": [
    "f_val,p_val=stats.f_oneway(gpt2.get_group('fwd')['price'],gpt2.get_group('rwd')['price'])\n",
    "print(\"resultados da ANOVA \\tF-test-score: \",f_val,\"\\tP-value: \",p_val)"
   ]
  },
  {
   "cell_type": "markdown",
   "id": "f8970b4b",
   "metadata": {},
   "source": [
    "### Tração traseira (rwd) x Tração nas quatro rodas(4wd)"
   ]
  },
  {
   "cell_type": "code",
   "execution_count": null,
   "id": "19738693",
   "metadata": {},
   "outputs": [],
   "source": [
    "f_val,p_val=stats.f_oneway(gpt2.get_group('rwd')['price'],gpt2.get_group('4wd')['price'])\n",
    "print(\"resultados da ANOVA \\tF-test-score: \",f_val,\"\\tP-value: \",p_val)"
   ]
  },
  {
   "cell_type": "markdown",
   "id": "680c9c4f",
   "metadata": {},
   "source": [
    "### Tração dianteira (fwd) x Tração nas quatro rodas(4wd)"
   ]
  },
  {
   "cell_type": "code",
   "execution_count": null,
   "id": "937d393d",
   "metadata": {},
   "outputs": [],
   "source": [
    "f_val,p_val=stats.f_oneway(gpt2.get_group('fwd')['price'],gpt2.get_group('4wd')['price'])\n",
    "print(\"resultados da ANOVA \\tF-test-score: \",f_val,\"\\tP-value: \",p_val)"
   ]
  },
  {
   "cell_type": "code",
   "execution_count": null,
   "id": "61ac4065",
   "metadata": {},
   "outputs": [],
   "source": []
  }
 ],
 "metadata": {
  "kernelspec": {
   "display_name": "Python 3",
   "language": "python",
   "name": "python3"
  },
  "language_info": {
   "codemirror_mode": {
    "name": "ipython",
    "version": 3
   },
   "file_extension": ".py",
   "mimetype": "text/x-python",
   "name": "python",
   "nbconvert_exporter": "python",
   "pygments_lexer": "ipython3",
   "version": "3.8.8"
  }
 },
 "nbformat": 4,
 "nbformat_minor": 5
}
