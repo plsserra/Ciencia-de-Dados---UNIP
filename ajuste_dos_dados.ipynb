{
 "cells": [
  {
   "cell_type": "markdown",
   "id": "d00fcbe1",
   "metadata": {},
   "source": [
    "# Data Wrangling ( Limpeza e Ajuste de Dados)\n",
    "# Limpeza e Ajuste de Base de Dados\n",
    "\n",
    "### Trata-se do processo de conversão e adequação do formato dos dados originais para um formato mais conveniente (e melhor) para a realização das análises."
   ]
  },
  {
   "cell_type": "code",
   "execution_count": null,
   "id": "ca28428f",
   "metadata": {},
   "outputs": [],
   "source": [
    "import pandas as pd\n",
    "import matplotlib.pylab as plt"
   ]
  },
  {
   "cell_type": "markdown",
   "id": "59081876",
   "metadata": {},
   "source": [
    "## Os dados originais foram obtidos e podem ser encontrados na internet no endereço:\n",
    "\"https://archive.ics.uci.edu/ml/machine-learning-databases/autos/imports-85.data (https://archive.ics.uci.edu/ml/machine-learningdatabases/autos/imports-85.data\"\n",
    "Eles foram previamente baixados e se encontram no arquivo de mesmo nome (com extensão .csv no Teams na pasta \"Atividades\"\n",
    "Demonstra-se aqui as diversas formas de buscar estes dados:"
   ]
  },
  {
   "cell_type": "code",
   "execution_count": null,
   "id": "2841d165",
   "metadata": {},
   "outputs": [],
   "source": [
    "# \n",
    "# Endereço do arquivo\n",
    "#\n",
    "\n",
    "filename = \"https://s3-api.us-geo.objectstorage.softlayer.net/cf-courses-data/CognitiveClass/DA0101EN/auto.csv\"\n",
    "#\n",
    "#  Definição dos cabeçalhos (ou atributos da tabela)\n",
    "#\n",
    "\n",
    "headers = [\"symboling\",\"normalized-losses\",\"make\",\"fuel-type\",\"aspiration\",\"num-of-doors\",\"body-style\",\"drive-wheels\",\n",
    "           \"engine-location\",\"wheel-base\",\"length\",\"width\",\"height\",\"curb-weight\",\"engine-type\",\"num-of-cylinders\",\n",
    "           \"engine-size\",\"fuel-system\",\"bore\",\"stroke\",\"compression-ratio\",\"horsepower\",\"peak-rpm\",\"city-mpg\",\n",
    "           \"highway-mpg\",\"price\"]\n",
    "\n",
    "#\n",
    "#  Aplicação do método pandas read_csv para carregar os dados da internet em um dataframe (df) com inclusão de cabeçalho \n",
    "# (parâmetro name)\n",
    "#\n",
    "\n",
    "df = pd.read_csv(filename, names = headers)"
   ]
  },
  {
   "cell_type": "code",
   "execution_count": null,
   "id": "ce3f9cde",
   "metadata": {},
   "outputs": [],
   "source": [
    "#\n",
    "#  Visualização dos dados : __.head() ==> Apresenta as cinco primeiras linhas do dataframe\n",
    "#  __.tail() ==> Apresenta as cinco últimas linhas do dataframe\n",
    "#\n",
    "\n",
    "df.head(10)"
   ]
  },
  {
   "cell_type": "code",
   "execution_count": null,
   "id": "ad73aaff",
   "metadata": {},
   "outputs": [],
   "source": [
    "#\n",
    "#  Dimensões do dataframe\n",
    "#\n",
    "\n",
    "df.shape"
   ]
  },
  {
   "cell_type": "markdown",
   "id": "c5df4afa",
   "metadata": {},
   "source": [
    "# Dados (Valores) ausentes\n",
    "## \n",
    "## Os sinais de ? (interrogação) identificam a ausência de dados no dataframe\n",
    "## A ausência de valores deve ser identificada e tratada, pois, comprometem a  \n",
    "## qualidade e os resultados da análise\n",
    "\n",
    "## Como identificar e tratar estes dados e situações?\n",
    "\n",
    "Passos para tratar com ausência de dados:\n",
    "<os>\n",
    "    <li> Identificação e captura dos dados ausentes </li>\n",
    "    <li> Tratar a ausência de dados </li>\n",
    "    <li> Corrigir o formato dos dados </li>\n",
    "</os>\n",
    "\n",
    "## Identificação e captura dos dados ausentes:\n",
    "## Identificação dos valores ausentes: \n",
    "Conversão da ? para NaN (Not a Number)\n",
    " .replace(A,B,inplace = True) ==> para recolocar A por B."
   ]
  },
  {
   "cell_type": "code",
   "execution_count": null,
   "id": "f16f22fc",
   "metadata": {},
   "outputs": [],
   "source": [
    "import numpy as np\n",
    "# recolocar ? por NaN\n",
    "df.replace(\"?\",np.nan,inplace = True)\n",
    "df.head()"
   ]
  },
  {
   "cell_type": "markdown",
   "id": "57e4ae13",
   "metadata": {},
   "source": [
    "## Avaliação dos valores ausentes\n",
    "\n",
    "### Os valores ausentes são convertidos por default em python. São utilizadas funções construtoras <br/> para identificar estes valores. Existem dois métodos para identificar estes valores:\n",
    "<ul>\n",
    "    <li>.isnull()</li>\n",
    "    <li>.notnull()</li>\n",
    "</ul>\n",
    "\n",
    "### A saída é um valor lógico indicando quando o valor passado no argumento é um valor ausente."
   ]
  },
  {
   "cell_type": "code",
   "execution_count": null,
   "id": "c9530eb5",
   "metadata": {},
   "outputs": [],
   "source": [
    "dados_ausentes=df.isnull()\n",
    "dados_ausentes.head()"
   ]
  },
  {
   "cell_type": "markdown",
   "id": "c86ded55",
   "metadata": {},
   "source": [
    "## Contagem de valores ausentes em cada coluna\n",
    "\n",
    "### Pode-se apresentar o número de valores ausentes em cada coluna.<br/>True representa a ausência do valor enquanto que False indica que o valor está presente.<br/> O método \".value_counts()\" retorna o número de valores \"True\"."
   ]
  },
  {
   "cell_type": "code",
   "execution_count": null,
   "id": "d88d0fe0",
   "metadata": {},
   "outputs": [],
   "source": [
    "for column in dados_ausentes.columns.values.tolist():\n",
    "    print(column)\n",
    "    print(dados_ausentes[column].value_counts())\n",
    "    print(\"\")"
   ]
  },
  {
   "cell_type": "markdown",
   "id": "5311da4b",
   "metadata": {},
   "source": [
    "### Baseado no resumo acima, cada coluna tem 205 dados e tem-se sete colunas com ausência de dados:\n",
    "<ol>\n",
    "    <li> \"normalized-losses\" - 41 dados</li>\n",
    "    <li> \"num-of-doors\" - 2 dados</li>\n",
    "    <li> \"bore\" - 4 dados</li>\n",
    "    <li> \"stroke\" - 4 dados</li>\n",
    "    <li> \"horsepower\" - 2 dados</li>\n",
    "    <li> \"peak-rpm\" - 2 dados</li>\n",
    "    <li> \"price\" - 4 dados</li>\n",
    "</ol>\n",
    "\n",
    "### Tratamento dos dados ausentes\n",
    "### Como os dados podem ser tratados? \n",
    "\n",
    "<p> Eliminação</p>\n",
    "<p> a. Eliminação de toda a linha</p>\n",
    "<p> b. Eliminação de toda a coluna</p>\n",
    "<br/>\n",
    "<p> Reposição do dado</p>\n",
    "<p> a. reposição pela média</p>\n",
    "<p> b. reposição pela frequëncia</p>\n",
    "<p> c. reposição por outra função</p>\n",
    "<br/>\n",
    "\n",
    "### Adotaremos os seguintes procedimentos:\n",
    "### Reposição pela média:\n",
    "\n",
    "<ol>\n",
    "    <li> \"normalized-losses\" - 41 dados</li>\n",
    "    <li> \"bore\" - 4 dados</li>\n",
    "    <li> \"stroke\" - 4 dados</li>\n",
    "    <li> \"horsepower\" - 2 dados</li>\n",
    "    <li> \"peak-rpm\" - 2 dados</li>\n",
    "</ol>\n",
    "\n",
    "### Reposição pela freqüência:\n",
    "\n",
    "<ol>\n",
    "    <li>\"num-of-doors\" - 2 dados</li>\n",
    "</ol>\n",
    "\n",
    "<p> Justificativa: 84% dos sedans são quatro portas </p>\n",
    "\n",
    "### Eliminação de toda a linha:\n",
    "\n",
    "<ol>\n",
    "    <li> \"price\" - 4 dados</li>\n",
    "</ol>\n",
    "\n",
    "<p> Justificativa: o preço dos carros é a variável alvo para predição </p>\n",
    "\n",
    "### Cálculo da média:"
   ]
  },
  {
   "cell_type": "code",
   "execution_count": null,
   "id": "11c5652c",
   "metadata": {},
   "outputs": [],
   "source": [
    "avg_norm_loss=df[\"normalized-losses\"].astype(float).mean(axis=0)\n",
    "print(\"Average normalized-losses:  \",avg_norm_loss)"
   ]
  },
  {
   "cell_type": "markdown",
   "id": "ed687c9a",
   "metadata": {},
   "source": [
    "### Reposição dos valores ausentes pela média"
   ]
  },
  {
   "cell_type": "code",
   "execution_count": null,
   "id": "e87bce9b",
   "metadata": {},
   "outputs": [],
   "source": [
    "df[\"normalized-losses\"].replace(np.nan,avg_norm_loss,inplace=True)"
   ]
  },
  {
   "cell_type": "code",
   "execution_count": null,
   "id": "0299f4c4",
   "metadata": {},
   "outputs": [],
   "source": [
    "avg_bore=df[\"bore\"].astype(float).mean(axis=0)\n",
    "print(\"Average bore:  \",avg_bore)\n",
    "df[\"bore\"].replace(np.nan,avg_bore,inplace=True)"
   ]
  },
  {
   "cell_type": "code",
   "execution_count": null,
   "id": "97fe2e4c",
   "metadata": {},
   "outputs": [],
   "source": [
    "avg_stroke=df[\"stroke\"].astype(float).mean(axis=0)\n",
    "print(\"Average stroke:  \",avg_stroke)\n",
    "df[\"bore\"].replace(np.nan,avg_stroke,inplace=True)"
   ]
  },
  {
   "cell_type": "code",
   "execution_count": null,
   "id": "edd1f17e",
   "metadata": {},
   "outputs": [],
   "source": [
    "avg_hp=df[\"horsepower\"].astype(float).mean(axis=0)\n",
    "print(\"Average horsepower:  \",avg_hp)\n",
    "df[\"bore\"].replace(np.nan,avg_hp,inplace=True)"
   ]
  },
  {
   "cell_type": "code",
   "execution_count": null,
   "id": "2531e9fc",
   "metadata": {},
   "outputs": [],
   "source": [
    "#\n",
    "#  Atividade: Calcule a média da variável peak-rpm e preencha os campos com valor ausente desta variável\n",
    "#"
   ]
  },
  {
   "cell_type": "markdown",
   "id": "b9b4d938",
   "metadata": {},
   "source": [
    "### Reposição do num-of-doors pelo valor correspondente ao de maior freqüência - moda\n",
    "### Para identificação da moda, pode-se utilizar o método value_counts ou idxmax"
   ]
  },
  {
   "cell_type": "code",
   "execution_count": null,
   "id": "2399c63e",
   "metadata": {},
   "outputs": [],
   "source": [
    "df[\"num-of-doors\"].value_counts()"
   ]
  },
  {
   "cell_type": "code",
   "execution_count": null,
   "id": "9ea3d733",
   "metadata": {},
   "outputs": [],
   "source": [
    "df[\"num-of-doors\"].value_counts().idxmax()"
   ]
  },
  {
   "cell_type": "code",
   "execution_count": null,
   "id": "fad9ece5",
   "metadata": {},
   "outputs": [],
   "source": [
    "df['num-of-doors'].replace(np.nan,'four',inplace=True)"
   ]
  },
  {
   "cell_type": "markdown",
   "id": "c2ed6c49",
   "metadata": {},
   "source": [
    "### Eliminação de todas as linhas que não contém valores da variável preço"
   ]
  },
  {
   "cell_type": "code",
   "execution_count": null,
   "id": "e2b7029d",
   "metadata": {},
   "outputs": [],
   "source": [
    "df.dropna(subset=['price'],axis=0,inplace=True)\n",
    "#\n",
    "# Atualização dos índices das linhas\n",
    "#\n",
    "df.reset_index(drop=True,inplace=True)"
   ]
  },
  {
   "cell_type": "code",
   "execution_count": null,
   "id": "54dd834a",
   "metadata": {},
   "outputs": [],
   "source": [
    "#\n",
    "# Verificação do dataframe\n",
    "#\n",
    "df.head(15)"
   ]
  },
  {
   "cell_type": "markdown",
   "id": "85741ff5",
   "metadata": {},
   "source": [
    "### Correção no formato dos dados\n",
    "\n",
    "<p> O último passo na limpeza de um conjunto de dados é verificar se todos os dados são do tipo correspondente (int, float, string ou outro).<br/>\n",
    "Em pandas utiliza-se:</p>\n",
    "<ul>\n",
    "    <li>.dtypes para checar o tipo de dado e</li>\n",
    "    <li>.astype() para alterar o tipo de dado.</li>\n",
    "</ul>"
   ]
  },
  {
   "cell_type": "code",
   "execution_count": null,
   "id": "3e94a018",
   "metadata": {},
   "outputs": [],
   "source": [
    "df.dtypes"
   ]
  },
  {
   "cell_type": "code",
   "execution_count": null,
   "id": "bcc9df8d",
   "metadata": {},
   "outputs": [],
   "source": [
    "print(df['symboling'].dtypes)"
   ]
  },
  {
   "cell_type": "markdown",
   "id": "3050c2fa",
   "metadata": {},
   "source": [
    "### Variáveis numéricas devem ser do tipo \"float\" ou \"int\" e \"strings\" devem ser do tipo \"object\".<br/> \"bore\" e \"stroke\" são variáveis numéricas pois são valores que descrevem características numéricas do motor.\n",
    "### A conversão destas variáveis requer o uso do método .astype()."
   ]
  },
  {
   "cell_type": "code",
   "execution_count": null,
   "id": "89535b36",
   "metadata": {},
   "outputs": [],
   "source": [
    "df[[\"bore\",\"stroke\"]]=df[[\"bore\",\"stroke\"]].astype(\"float\")\n",
    "df[[\"normalized-losses\"]]=df[[\"normalized-losses\"]].astype(\"int\")\n",
    "df[[\"price\"]]=df[[\"price\"]].astype(\"float\")\n",
    "df[[\"peak-rpm\"]]=df[[\"peak-rpm\"]].astype(\"float\")"
   ]
  },
  {
   "cell_type": "code",
   "execution_count": null,
   "id": "c1d0f1c4",
   "metadata": {},
   "outputs": [],
   "source": [
    "df.dtypes"
   ]
  },
  {
   "cell_type": "markdown",
   "id": "9f01aa24",
   "metadata": {},
   "source": [
    "# Padronização dos Dados"
   ]
  }
 ],
 "metadata": {
  "kernelspec": {
   "display_name": "Python 3",
   "language": "python",
   "name": "python3"
  },
  "language_info": {
   "codemirror_mode": {
    "name": "ipython",
    "version": 3
   },
   "file_extension": ".py",
   "mimetype": "text/x-python",
   "name": "python",
   "nbconvert_exporter": "python",
   "pygments_lexer": "ipython3",
   "version": "3.8.8"
  }
 },
 "nbformat": 4,
 "nbformat_minor": 5
}
